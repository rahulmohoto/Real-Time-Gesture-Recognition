{
 "cells": [
  {
   "cell_type": "markdown",
   "metadata": {},
   "source": [
    "# TouchFree Vending Machine"
   ]
  },
  {
   "cell_type": "code",
   "execution_count": 63,
   "metadata": {},
   "outputs": [],
   "source": [
    "import copy\n",
    "import time\n",
    "import cv2\n",
    "import numpy as np\n",
    "from keras.models import load_model\n",
    "import serial"
   ]
  },
  {
   "cell_type": "markdown",
   "metadata": {},
   "source": [
    "# For Bluetooth Communication"
   ]
  },
  {
   "cell_type": "code",
   "execution_count": 64,
   "metadata": {},
   "outputs": [
    {
     "data": {
      "text/plain": [
       "1"
      ]
     },
     "execution_count": 64,
     "metadata": {},
     "output_type": "execute_result"
    }
   ],
   "source": [
    "portOk=False\n",
    "startTime=time.time()\n",
    "while(time.time()-startTime<=2):\n",
    "    try:\n",
    "        serialPort = serial.Serial(port = \"COM8\", baudrate=9600, #baudrate can be more.\n",
    "                           bytesize=8, timeout=2, stopbits=serial.STOPBITS_ONE)\n",
    "        time.sleep(0.1)\n",
    "        serialPort.write(b\"H\")\n",
    "        portOk=True\n",
    "        break\n",
    "    except:\n",
    "        serialPort.close()\n",
    "if(portOk==False):\n",
    "    print(\"Port Busy!!\")"
   ]
  },
  {
   "cell_type": "markdown",
   "metadata": {},
   "source": [
    "# Onscreen Window Parameters"
   ]
  },
  {
   "cell_type": "code",
   "execution_count": 65,
   "metadata": {},
   "outputs": [],
   "source": [
    "prediction = ''\n",
    "action = ''\n",
    "purchaseId = ''\n",
    "waitTime = 0\n",
    "timeLeft = 0\n",
    "score = 0\n",
    "img_counter = 500\n",
    "\n",
    "gesture_names = {0: 'Fist',\n",
    "                 1: 'L',\n",
    "                 2: 'Okay',\n",
    "                 3: 'Palm',\n",
    "                 4: 'Peace'}"
   ]
  },
  {
   "cell_type": "markdown",
   "metadata": {},
   "source": [
    "# Load Model"
   ]
  },
  {
   "cell_type": "code",
   "execution_count": 66,
   "metadata": {},
   "outputs": [],
   "source": [
    "model = load_model('VGG_cross_validated.h5')"
   ]
  },
  {
   "cell_type": "markdown",
   "metadata": {},
   "source": [
    "# Function to Label the Predicted Image among Predefined Classes"
   ]
  },
  {
   "cell_type": "code",
   "execution_count": 67,
   "metadata": {},
   "outputs": [],
   "source": [
    "def predict_rgb_image(img):\n",
    "    result = gesture_names[model.predict_classes(img)[0]]\n",
    "    print(result)\n",
    "    return (result)"
   ]
  },
  {
   "cell_type": "markdown",
   "metadata": {},
   "source": [
    "# Function to Predict the Image"
   ]
  },
  {
   "cell_type": "code",
   "execution_count": 68,
   "metadata": {},
   "outputs": [],
   "source": [
    "def predict_rgb_image_vgg(image):\n",
    "    image = np.array(image, dtype='float32')\n",
    "    image /= 255\n",
    "    pred_array = model.predict(image)\n",
    "    #print(f'pred_array: {pred_array}')\n",
    "    result = gesture_names[np.argmax(pred_array)]\n",
    "    #print(f'Result: {result}')\n",
    "    #print(max(pred_array[0]))\n",
    "    score = float(\"%0.2f\" % (max(pred_array[0]) * 100))\n",
    "    #print(result)\n",
    "    return result, score"
   ]
  },
  {
   "cell_type": "markdown",
   "metadata": {},
   "source": [
    "# Parameters to Apply for Different Filters and Setting thresholds   "
   ]
  },
  {
   "cell_type": "code",
   "execution_count": 69,
   "metadata": {},
   "outputs": [],
   "source": [
    "# parameters\n",
    "cap_region_x_begin = 0.5  # start point/total width\n",
    "cap_region_y_end = 0.8  # start point/total width\n",
    "threshold = 60  # binary threshold\n",
    "blurValue = 41  # GaussianBlur parameter\n",
    "bgSubThreshold = 50\n",
    "learningRate = 0\n",
    "\n",
    "#serial communication\n",
    "trigger=False\n",
    "resetTrigger=False\n",
    "\n",
    "# variableslt\n",
    "isBgCaptured = 0  # bool, whether the background captured\n",
    "triggerSwitch = False  # if true, keyboard simulator works"
   ]
  },
  {
   "cell_type": "markdown",
   "metadata": {},
   "source": [
    "# Utility Function to Create Background Model with The Provided Threshold "
   ]
  },
  {
   "cell_type": "code",
   "execution_count": 70,
   "metadata": {},
   "outputs": [],
   "source": [
    "def captureBackgnd(bgSubThreshold): #capture backgnd\n",
    "    global bgModel\n",
    "    global isBgCaptured\n",
    "    bgModel = cv2.createBackgroundSubtractorMOG2(0, bgSubThreshold)\n",
    "    time.sleep(2) \n",
    "    isBgCaptured = 1"
   ]
  },
  {
   "cell_type": "markdown",
   "metadata": {},
   "source": [
    "# Function to Remove Background from Frame"
   ]
  },
  {
   "cell_type": "code",
   "execution_count": 71,
   "metadata": {},
   "outputs": [],
   "source": [
    "def remove_background(frame):\n",
    "    fgmask = bgModel.apply(frame, learningRate=learningRate)\n",
    "    kernel = np.ones((3, 3), np.uint8)\n",
    "    fgmask = cv2.erode(fgmask, kernel, iterations=1)\n",
    "    res = cv2.bitwise_and(frame, frame, mask=fgmask)\n",
    "    return res"
   ]
  },
  {
   "cell_type": "markdown",
   "metadata": {},
   "source": [
    "# Function to Process Target Image by resizing, reshaping"
   ]
  },
  {
   "cell_type": "code",
   "execution_count": 72,
   "metadata": {},
   "outputs": [],
   "source": [
    "def processTarget(thresh):\n",
    "    target = np.stack((thresh,) * 3, axis=-1)\n",
    "    target = cv2.resize(target, (224, 224))\n",
    "    target = target.reshape(1, 224, 224, 3)\n",
    "    return target"
   ]
  },
  {
   "cell_type": "markdown",
   "metadata": {},
   "source": [
    "# Function to Get the binarized Image and showing different onscreen parameters on the Window"
   ]
  },
  {
   "cell_type": "code",
   "execution_count": 73,
   "metadata": {},
   "outputs": [],
   "source": [
    "def getThresh(frame):\n",
    "        img = remove_background(frame)\n",
    "        img = img[0:int(cap_region_y_end * frame.shape[0]),\n",
    "              int(cap_region_x_begin * frame.shape[1]):frame.shape[1]]  # clip the ROI\n",
    "#         cv2.imshow('mask', img)\n",
    "\n",
    "        # convert the image into binary image\n",
    "        gray = cv2.cvtColor(img, cv2.COLOR_BGR2GRAY)\n",
    "        blur = cv2.GaussianBlur(gray, (blurValue, blurValue), 0)\n",
    "        # cv2.imshow('blur', blur)\n",
    "        ret, thresh = cv2.threshold(blur, threshold, 255, cv2.THRESH_BINARY + cv2.THRESH_OTSU)\n",
    "        cv2.putText(thresh, f\"Prediction: {prediction} ({score}%)\", (10, 30), cv2.FONT_HERSHEY_SIMPLEX, 0.5,\n",
    "                    (255, 100, 0))\n",
    "        cv2.putText(thresh, f\"Action: {action}\", (10, 60), cv2.FONT_HERSHEY_SIMPLEX, 0.5,\n",
    "                    (255, 100, 0))  # Draw the text\n",
    "        cv2.putText(thresh, f\"Wait For: {int(float(waitTime))}sec\", (10, 90), cv2.FONT_HERSHEY_SIMPLEX, 0.5,\n",
    "                    (255, 100, 0))\n",
    "        cv2.putText(thresh, f\"Time Left: {int(float(timeLeft))}sec\", (10, 120), cv2.FONT_HERSHEY_SIMPLEX, 0.5,\n",
    "                    (255, 100, 0))\n",
    "        cv2.putText(thresh, f\"Purchased Product Id: {purchaseId}\", (10, 150), cv2.FONT_HERSHEY_SIMPLEX, 0.5,\n",
    "                    (255, 100, 0))\n",
    "        cv2.imshow('Prediction & Action', thresh)\n",
    "#         cv2.imshow(\"Original\", frame)\n",
    "        return thresh"
   ]
  },
  {
   "cell_type": "markdown",
   "metadata": {},
   "source": [
    "# To Get The Frame from Camera and Apply Smoothing Filter"
   ]
  },
  {
   "cell_type": "code",
   "execution_count": 74,
   "metadata": {},
   "outputs": [],
   "source": [
    "def getFrame(camera):\n",
    "    ret, frame = camera.read()\n",
    "    frame = cv2.bilateralFilter(frame, 5, 50, 100)  # smoothing filter\n",
    "    frame = cv2.flip(frame, 1)  # flip the frame horizontally\n",
    "    cv2.rectangle(frame, (int(cap_region_x_begin * frame.shape[1]), 0),\n",
    "                  (frame.shape[1], int(cap_region_y_end * frame.shape[0])), (255, 0, 0), 2)\n",
    "    cv2.imshow(\"original\",frame)\n",
    "    return frame"
   ]
  },
  {
   "cell_type": "markdown",
   "metadata": {},
   "source": [
    "# To Capture the Background for The First Time only"
   ]
  },
  {
   "cell_type": "code",
   "execution_count": 75,
   "metadata": {},
   "outputs": [],
   "source": [
    "def triggerCapture():\n",
    "    global startCapture\n",
    "    if(startCapture == True):\n",
    "        #resetWindowContent()\n",
    "        captureBackgnd(bgSubThreshold)  #To Capture Only Once\n",
    "#         print(\"Hello from capture\")\n",
    "        startCapture = False\n",
    "        time.sleep(1)"
   ]
  },
  {
   "cell_type": "markdown",
   "metadata": {},
   "source": [
    "# To Execute the Whole Process"
   ]
  },
  {
   "cell_type": "code",
   "execution_count": 76,
   "metadata": {},
   "outputs": [],
   "source": [
    "def totalProcess(camera):\n",
    "    frame = getFrame(camera)\n",
    "    thresh = getThresh(frame)\n",
    "    target = processTarget(thresh)\n",
    "    return target"
   ]
  },
  {
   "cell_type": "markdown",
   "metadata": {},
   "source": [
    "# Sets a Wait Timer 5secs to Allow User to Remove Hand"
   ]
  },
  {
   "cell_type": "code",
   "execution_count": 77,
   "metadata": {},
   "outputs": [],
   "source": [
    "def OkayWait():\n",
    "    global action\n",
    "    global waitTime\n",
    "    startTime = time.time()\n",
    "    waitTime = time.time()-startTime\n",
    "    while(waitTime<=5):\n",
    "        waitTime = time.time()-startTime\n",
    "        action = \"Gesture(Okay) to confirm in 60\"\n",
    "        prediction, score = predict_rgb_image_vgg(totalProcess(camera))\n",
    "        cv2.waitKey(10)\n",
    "    waitTime = 0"
   ]
  },
  {
   "cell_type": "markdown",
   "metadata": {},
   "source": [
    "# Sets a Countdown Timer 5secs to Allow User to Get Ready for the Next Gesture"
   ]
  },
  {
   "cell_type": "code",
   "execution_count": 78,
   "metadata": {},
   "outputs": [],
   "source": [
    "def nextWait():\n",
    "    global action\n",
    "    global waitTime\n",
    "    startTime = time.time()\n",
    "    waitTime = time.time()-startTime\n",
    "    while(waitTime<=5):\n",
    "        waitTime = time.time()-startTime\n",
    "        action = \"Done!! Wait For Next.\"\n",
    "        prediction, score = predict_rgb_image_vgg(totalProcess(camera))\n",
    "        cv2.waitKey(10)"
   ]
  },
  {
   "cell_type": "markdown",
   "metadata": {},
   "source": [
    "# Send Acknowledge and Read from com_port  "
   ]
  },
  {
   "cell_type": "code",
   "execution_count": 79,
   "metadata": {},
   "outputs": [],
   "source": [
    "def serialProcess():\n",
    "    global trigger\n",
    "    global resetTrigger\n",
    "    while(1):\n",
    "        serialPort.write(b\".\")\n",
    "        a=serialPort.read()\n",
    "#         print(type(a))\n",
    "#         print(a)\n",
    "        if(a==b'O'):\n",
    "            trigger = True\n",
    "            break"
   ]
  },
  {
   "cell_type": "markdown",
   "metadata": {},
   "source": [
    "# Start Camera"
   ]
  },
  {
   "cell_type": "code",
   "execution_count": 80,
   "metadata": {},
   "outputs": [
    {
     "data": {
      "text/plain": [
       "False"
      ]
     },
     "execution_count": 80,
     "metadata": {},
     "output_type": "execute_result"
    }
   ],
   "source": [
    "# Camera\n",
    "camera = cv2.VideoCapture(0)\n",
    "camera.set(10, 200)"
   ]
  },
  {
   "cell_type": "code",
   "execution_count": 81,
   "metadata": {},
   "outputs": [],
   "source": [
    "startCapture = True #to capture the screen one time only\n",
    "s='' #for the product Id string"
   ]
  },
  {
   "cell_type": "markdown",
   "metadata": {},
   "source": [
    "# Whole Operation"
   ]
  },
  {
   "cell_type": "code",
   "execution_count": 82,
   "metadata": {},
   "outputs": [
    {
     "name": "stdout",
     "output_type": "stream",
     "text": [
      "Hello from capture\n",
      "Bye Bye\n",
      "Bye Bye\n",
      "15\n",
      "\n"
     ]
    }
   ],
   "source": [
    "while camera.isOpened():\n",
    "    \n",
    "    frame = getFrame(camera)\n",
    "    \n",
    "    # Run once background is captured\n",
    "    if isBgCaptured == 1:\n",
    "        thresh = getThresh(frame)\n",
    "        \n",
    "    # copies 1 channel BW image to all 3 RGB channels\n",
    "        target = processTarget(thresh)\n",
    "        action = \"Hello!!\"\n",
    "        prediction, score = predict_rgb_image_vgg(target)\n",
    "        if(prediction == \"Peace\" and score>=99.0):\n",
    "            k = cv2.waitKey(10) \n",
    "            startTime = time.time()\n",
    "            waitTime = time.time()-startTime\n",
    "            while(waitTime<=5):\n",
    "                waitTime = time.time()-startTime\n",
    "                action = \"There you go!\"\n",
    "                prediction, score = predict_rgb_image_vgg(totalProcess(camera))\n",
    "                k=cv2.waitKey(10)\n",
    "            while(1):\n",
    "                breakWhile = False\n",
    "                waitTime = 0\n",
    "                timeLeft = 0\n",
    "                action = \"Gesture & Select Digit\"\n",
    "                prediction, score = predict_rgb_image_vgg(totalProcess(camera))\n",
    "                k = cv2.waitKey(10)\n",
    "                if(k==27):\n",
    "                    break\n",
    "                if(prediction == \"L\" and score>=99.0):\n",
    "                    OkayWait()\n",
    "                    startTime = time.time()\n",
    "                    currentTime = time.time()-startTime\n",
    "                    while(currentTime<=60):\n",
    "                        currentTime = time.time()-startTime\n",
    "                        timeLeft=60-currentTime\n",
    "                        prediction, score = predict_rgb_image_vgg(totalProcess(camera))\n",
    "                        if(prediction == \"Okay\" and score==100.0):\n",
    "                            action = \"Selected 1\"\n",
    "                            s += \"1\"\n",
    "                            nextWait()\n",
    "                            totalProcess(camera)\n",
    "                            break\n",
    "                        k = cv2.waitKey(10)\n",
    "                if(prediction == \"Fist\" and score==100.0):\n",
    "                    OkayWait()\n",
    "                    startTime=time.time()\n",
    "                    currentTime=time.time()-startTime \n",
    "                    while(currentTime<=60):\n",
    "                        currentTime=time.time()-startTime\n",
    "                        timeLeft=60-currentTime\n",
    "                        prediction, score = predict_rgb_image_vgg(totalProcess(camera))\n",
    "                        if(prediction == \"Okay\" and score==100.0):\n",
    "                            action = \"Selected 2\"\n",
    "                            s += \"2\"\n",
    "                            nextWait()\n",
    "                            totalProcess(camera)\n",
    "                            break\n",
    "                        k = cv2.waitKey(10)\n",
    "                if(prediction == \"Palm\" and score==100.0):\n",
    "                    OkayWait()\n",
    "                    startTime = time.time()\n",
    "                    currentTime = time.time()-startTime\n",
    "                    while(currentTime<=60):\n",
    "                        currentTime = time.time() - startTime\n",
    "                        timeLeft = 60 - currentTime\n",
    "                        prediction, score = predict_rgb_image_vgg(totalProcess(camera))\n",
    "                        if(prediction == \"Okay\" and score==100.0):\n",
    "                            action = \"Selected 3\"\n",
    "                            s += \"3\"\n",
    "                            nextWait()\n",
    "                            totalProcess(camera)\n",
    "                            break\n",
    "                        k = cv2.waitKey(10)\n",
    "                if(prediction == \"Peace\" and score>=98.0):\n",
    "                    OkayWait()\n",
    "                    startTime=time.time()\n",
    "                    currentTime=time.time()-startTime\n",
    "                    while(currentTime<=60):\n",
    "                        currentTime = time.time() - startTime\n",
    "                        timeLeft = 60 - currentTime\n",
    "                        prediction, score = predict_rgb_image_vgg(totalProcess(camera))\n",
    "                        if(prediction == \"Okay\" and score==100.0):\n",
    "                            action = \"Bye Bye\"\n",
    "                            print(\"Bye Bye\")\n",
    "                            totalProcess(camera)\n",
    "                            breakWhile = True\n",
    "                            break\n",
    "                        k = cv2.waitKey(10)\n",
    "                \n",
    "                if(breakWhile==True):\n",
    "                    break\n",
    "                                \n",
    "                         \n",
    "        if(prediction == \"Palm\" and score>=98.0):\n",
    "            k = cv2.waitKey(10) \n",
    "            startTime = time.time()\n",
    "            waitTime = time.time()-startTime\n",
    "            while(waitTime<=5):\n",
    "                waitTime = time.time()-startTime\n",
    "                action = \"There you go!\"\n",
    "                prediction, score = predict_rgb_image_vgg(totalProcess(camera))\n",
    "                k=cv2.waitKey(10)\n",
    "            while(1):\n",
    "                breakWhile = False\n",
    "                waitTime = 0\n",
    "                timeLeft = 0\n",
    "                action = \"Gesture & Select Digit\"\n",
    "                prediction, score = predict_rgb_image_vgg(totalProcess(camera))\n",
    "                k = cv2.waitKey(10)\n",
    "                if(k==27):\n",
    "                    break\n",
    "                if(prediction == \"L\" and score>=99.0):\n",
    "                    OkayWait()\n",
    "                    startTime = time.time()\n",
    "                    currentTime = time.time()-startTime\n",
    "                    while(currentTime<=60):\n",
    "                        currentTime = time.time()-startTime\n",
    "                        timeLeft = 60 - currentTime\n",
    "                        prediction, score = predict_rgb_image_vgg(totalProcess(camera))\n",
    "                        if(prediction == \"Okay\" and score==100.0):\n",
    "                            action = \"Selected 4\"\n",
    "                            s += \"4\"\n",
    "                            nextWait()\n",
    "                            totalProcess(camera)\n",
    "                            break\n",
    "                        k = cv2.waitKey(10)\n",
    "                if(prediction == \"Fist\" and score==100.0):\n",
    "                    OkayWait()\n",
    "                    startTime=time.time()\n",
    "                    currentTime=time.time()-startTime \n",
    "                    while(currentTime<=60):\n",
    "                        currentTime=time.time()-startTime\n",
    "                        timeLeft=60-currentTime\n",
    "                        prediction, score = predict_rgb_image_vgg(totalProcess(camera))\n",
    "                        if(prediction == \"Okay\" and score==100.0):\n",
    "                            action = \"Selected 5\"\n",
    "                            s += \"5\"\n",
    "                            nextWait()\n",
    "                            totalProcess(camera)\n",
    "                            break\n",
    "                        k = cv2.waitKey(10)\n",
    "                if(prediction == \"Peace\" and score==100.0):\n",
    "                    OkayWait()\n",
    "                    startTime = time.time()\n",
    "                    currentTime = time.time()-startTime\n",
    "                    while(currentTime<=60):\n",
    "                        currentTime = time.time() - startTime\n",
    "                        timeLeft=60-currentTime\n",
    "                        prediction, score = predict_rgb_image_vgg(totalProcess(camera))\n",
    "                        if(prediction == \"Okay\" and score==100.0):\n",
    "                            action = \"Selected 6\"\n",
    "                            s += \"6\"\n",
    "                            nextWait()\n",
    "                            totalProcess(camera)\n",
    "                            break\n",
    "                        k = cv2.waitKey(10)\n",
    "                if(prediction == \"Palm\" and score>=98.0):\n",
    "                    OkayWait()\n",
    "                    startTime=time.time()\n",
    "                    currentTime=time.time()-startTime\n",
    "                    while(currentTime<=60):\n",
    "                        currentTime = time.time() - startTime\n",
    "                        timeLeft=60-currentTime\n",
    "                        prediction, score = predict_rgb_image_vgg(totalProcess(camera))\n",
    "                        if(prediction == \"Okay\" and score==100.0):\n",
    "                            action = \"Bye Bye\"\n",
    "#                             print(\"Bye Bye\")\n",
    "                            totalProcess(camera)\n",
    "                            breakWhile = True\n",
    "                            break\n",
    "                        k = cv2.waitKey(10)\n",
    "                \n",
    "                if(breakWhile==True):\n",
    "                    break\n",
    "                    \n",
    "        \n",
    "        if(prediction=='L' and score==100.0):\n",
    "            print(s)\n",
    "            purchaseId=s\n",
    "            totalProcess(camera)\n",
    "            b = s.encode('utf-8')\n",
    "            startTime=time.time()\n",
    "            while(time.time()-startTime<=1):\n",
    "                serialPort.write(b)\n",
    "            s=''\n",
    "    \n",
    "     # Keyboard OP for emergency stop\n",
    "    if(trigger==False):\n",
    "        serialProcess()\n",
    "        triggerCapture()\n",
    "        \n",
    "    k = cv2.waitKey(10)\n",
    "    \n",
    "    if k == 27:  # press ESC to exit all windows at any time\n",
    "        break           \n",
    "        \n",
    "cv2.destroyAllWindows()\n",
    "camera.release()\n",
    "\n",
    "serialPort.close()"
   ]
  }
 ],
 "metadata": {
  "kernelspec": {
   "display_name": "Python 3",
   "language": "python",
   "name": "python3"
  },
  "language_info": {
   "codemirror_mode": {
    "name": "ipython",
    "version": 3
   },
   "file_extension": ".py",
   "mimetype": "text/x-python",
   "name": "python",
   "nbconvert_exporter": "python",
   "pygments_lexer": "ipython3",
   "version": "3.8.2"
  }
 },
 "nbformat": 4,
 "nbformat_minor": 4
}
